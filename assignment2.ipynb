{
 "cells": [
  {
   "cell_type": "markdown",
   "metadata": {},
   "source": [
    "*** 1.Create a function to return a frequency distribution of a given sequence of values ***\n",
    "\n",
    "*** f = frequency( 2,2,9,1,2,2,1,4,2,2,3,1) ***\n",
    "\n",
    "*** print(f) # {2:6,1:3, 9:1,4:1,3:1} ***"
   ]
  },
  {
   "cell_type": "code",
   "execution_count": 13,
   "metadata": {},
   "outputs": [
    {
     "name": "stdout",
     "output_type": "stream",
     "text": [
      "The Frequency table:\t{1: 3, 2: 6, 3: 3, 4: 1, 5: 7, 6: 3, 7: 1, 8: 1, 9: 3}\n"
     ]
    }
   ],
   "source": [
    "frequency_table = dict()\n",
    "def freq_table(table):\n",
    "\n",
    "    set_counter = set()\n",
    "    for i in table:\n",
    "        set_counter.add(i)\n",
    "    for i in set_counter:\n",
    "        frequency_table[i] = table.count(i)\n",
    "    print(frequency_table)\n",
    " \n",
    "print(\"The Frequency table:\",end=\"\\t\")\n",
    "\n",
    "freq_table((2,2,9,1,2,5,5,5,5,5,9,9,6,6,3,3,5,7,8,6,5,2,1,4,2,2,3,1))"
   ]
  },
  {
   "cell_type": "markdown",
   "metadata": {},
   "source": [
    "***    2.Create a Historgram for a given frequency table  ***\n",
    "*** we are NOT using any external or builtin libraries ***\n",
    "plot_historgram({2:6,1:3, 9:2,4:3,3:1}) \n",
    "2 | ================== 6 \n",
    "\n",
    "1 | ========= 3 \n",
    "\n",
    "9 | ====== 2 \n",
    "\n",
    "4 | ========= 3 \n",
    "\n",
    "3 | === 1 "
   ]
  },
  {
   "cell_type": "code",
   "execution_count": 16,
   "metadata": {},
   "outputs": [
    {
     "name": "stdout",
     "output_type": "stream",
     "text": [
      "1 |\t= = = 3\n",
      "2 |\t= = = = = = 6\n",
      "3 |\t= = = 3\n",
      "4 |\t= 1\n",
      "5 |\t= = = = = = = 7\n",
      "6 |\t= = = 3\n",
      "7 |\t= 1\n",
      "8 |\t= 1\n",
      "9 |\t= = = 3\n"
     ]
    }
   ],
   "source": [
    "def histogram(freTable):\n",
    "    for x,y in frequency_table.items():\n",
    "        print(x,\"|\",end=\"\\t\")\n",
    "        for j in range(y):\n",
    "            print(\"=\",end=' ')\n",
    "        print(y)\n",
    "        \n",
    "\n",
    "histogram(frequency_table)"
   ]
  },
  {
   "cell_type": "markdown",
   "metadata": {},
   "source": [
    "***   3. Print the calendar of a given month  ***"
   ]
  },
  {
   "cell_type": "code",
   "execution_count": 17,
   "metadata": {},
   "outputs": [],
   "source": [
    "def is_leap_year(year):\n",
    "    return (year%100!=0 and year%4==0) or year%400==0\n",
    "\n",
    "def days_in_month(month , year=1990):\n",
    "    if month==2:\n",
    "        return 28+int(is_leap_year(year))        \n",
    "    elif (month<8 and month%2!=0) or (month>=8 and month%2==0):\n",
    "        return 31\n",
    "    else:\n",
    "        return 30\n",
    "\n",
    "\n",
    "def date_value(day ,month, year):\n",
    "    value=0\n",
    "    y=year-1\n",
    "    # total days elapsed till the end of previous year\n",
    "    value = y * 365 + y//4  - y//100 + y//400\n",
    "\n",
    "    # add total days passed till previous month of this year\n",
    "    m=1\n",
    "    while m<month:\n",
    "        #print(f'Adding {days_in_month(m,year)} for {m}/{year}')\n",
    "        value+= days_in_month(m,year)\n",
    "        m+=1\n",
    "\n",
    "    #add days of this month\n",
    "    value+=day\n",
    "    return value\n",
    "\n",
    "def date_to_week_day(date,month,year):\n",
    "    ref_date = date_value(1,1,2006)\n",
    "    input_date= date_value(date,month,year)\n",
    "    diff= (input_date-ref_date) % 7\n",
    "    return diff"
   ]
  },
  {
   "cell_type": "code",
   "execution_count": 18,
   "metadata": {},
   "outputs": [],
   "source": [
    "def calender(month,year):\n",
    "\n",
    "    print(\"SUN \\t MON \\t TUE \\t WED \\t THU \\t FRI \\t SAT\")\n",
    "\n",
    "    num_days_mon = days_in_month(month,year)\n",
    "\n",
    "    day = date_to_week_day(1,month,year)\n",
    "\n",
    "   \n",
    "\n",
    "    for i in range(day):\n",
    "\n",
    "        print(\"\",end=\"\\t\")\n",
    "\n",
    "    for i in range(1,num_days_mon+1):\n",
    "\n",
    "        print(\" \",i,end=\"\\t\")\n",
    "\n",
    "        day += 1\n",
    "\n",
    "        if day == 7:\n",
    "\n",
    "            print(\"\")\n",
    "\n",
    "            day = 0\n",
    "\n",
    " "
   ]
  },
  {
   "cell_type": "code",
   "execution_count": 19,
   "metadata": {},
   "outputs": [
    {
     "name": "stdout",
     "output_type": "stream",
     "text": [
      "SUN \t MON \t TUE \t WED \t THU \t FRI \t SAT\n",
      "\t\t\t\t\t\t  1\t\n",
      "  2\t  3\t  4\t  5\t  6\t  7\t  8\t\n",
      "  9\t  10\t  11\t  12\t  13\t  14\t  15\t\n",
      "  16\t  17\t  18\t  19\t  20\t  21\t  22\t\n",
      "  23\t  24\t  25\t  26\t  27\t  28\t  29\t\n",
      "  30\t  31\t"
     ]
    }
   ],
   "source": [
    "month,year = (input(\"enter the month and year :\")).split()\n",
    "\n",
    "calender(int(month),int(year))"
   ]
  },
  {
   "cell_type": "code",
   "execution_count": 20,
   "metadata": {},
   "outputs": [
    {
     "name": "stdout",
     "output_type": "stream",
     "text": [
      "SUN \t MON \t TUE \t WED \t THU \t FRI \t SAT\n",
      "\t\t\t\t\t  1\t  2\t\n",
      "  3\t  4\t  5\t  6\t  7\t  8\t  9\t\n",
      "  10\t  11\t  12\t  13\t  14\t  15\t  16\t\n",
      "  17\t  18\t  19\t  20\t  21\t  22\t  23\t\n",
      "  24\t  25\t  26\t  27\t  28\t  29\t  30\t\n",
      "  31\t"
     ]
    }
   ],
   "source": [
    "calender(8,1947)"
   ]
  },
  {
   "cell_type": "markdown",
   "metadata": {},
   "source": [
    "*** Vertical Calender ***"
   ]
  },
  {
   "cell_type": "code",
   "execution_count": 230,
   "metadata": {},
   "outputs": [],
   "source": [
    "def vertical_calender(month,year):\n",
    "    \n",
    "    num_days_mon = days_in_month(month,year)\n",
    "    day = date_to_week_day(1,month,year)\n",
    "    date_row = 7-day+2\n",
    "    flag1 = False\n",
    "    # print(day)\n",
    "    date_row_copy = date_row\n",
    "    days = 1\n",
    "    weekdays = [\"SUN\",\"MON\",\"TUE\",\"WED\",\"THU\",\"FRI\",\"SAT\"]\n",
    "    flag= -1\n",
    "    for i in range(7):\n",
    "        print(weekdays[i],end=\"\\t\")\n",
    "        if(flag<date_row):\n",
    "            print(end=\"\\t\")\n",
    "            for j in range(5):\n",
    "                print(j,end=\"\\t\")\n",
    "            flag+=1\n",
    "            \n",
    "        else:\n",
    "            for j in range(5):\n",
    "                print(j,end=\"\\t\")\n",
    "        print()"
   ]
  },
  {
   "cell_type": "code",
   "execution_count": 231,
   "metadata": {},
   "outputs": [
    {
     "name": "stdout",
     "output_type": "stream",
     "text": [
      "SUN\t\t0\t1\t2\t3\t4\t\n",
      "MON\t\t0\t1\t2\t3\t4\t\n",
      "TUE\t\t0\t1\t2\t3\t4\t\n",
      "WED\t\t0\t1\t2\t3\t4\t\n",
      "THU\t\t0\t1\t2\t3\t4\t\n",
      "FRI\t\t0\t1\t2\t3\t4\t\n",
      "SAT\t\t0\t1\t2\t3\t4\t\n"
     ]
    }
   ],
   "source": [
    "vertical_calender(1,2023)"
   ]
  }
 ],
 "metadata": {
  "kernelspec": {
   "display_name": "Python 3",
   "language": "python",
   "name": "python3"
  },
  "language_info": {
   "codemirror_mode": {
    "name": "ipython",
    "version": 3
   },
   "file_extension": ".py",
   "mimetype": "text/x-python",
   "name": "python",
   "nbconvert_exporter": "python",
   "pygments_lexer": "ipython3",
   "version": "3.11.5"
  },
  "orig_nbformat": 4
 },
 "nbformat": 4,
 "nbformat_minor": 2
}
