{
 "cells": [
  {
   "cell_type": "markdown",
   "metadata": {},
   "source": [
    "Create a Model for representing Circle Object \n",
    "\n",
    "It should have :\n",
    "radius \n",
    "area \n",
    "perimeter \n",
    "info \n",
    "draw "
   ]
  },
  {
   "cell_type": "code",
   "execution_count": 85,
   "metadata": {},
   "outputs": [],
   "source": [
    "import math\n",
    "\n",
    "class Circle:\n",
    "    pass\n",
    "\n",
    "def create(r):\n",
    "    if(r>0):\n",
    "        c=Circle()\n",
    "        c.radius = r\n",
    "        return c\n",
    "    else:\n",
    "        return \"Invalid\"\n",
    "\n",
    "def is_valid(c):\n",
    "    return isinstance(c,Circle)\n",
    "\n",
    "def area(c):\n",
    "    return math.pi*c.radius**2\n",
    "    \n",
    "def perimeter(c):\n",
    "    return 2*math.pi*c.radius\n",
    "    \n",
    "def info(c):\n",
    "    return f'the INformation of Circle \\nRadius: {c.radius} \\nArea: {area(c)}\\nPerimeter: {perimeter(c)}'\n",
    "\n",
    "def draw(c):\n",
    "    return info(c)\n",
    "    \n"
   ]
  },
  {
   "cell_type": "code",
   "execution_count": 82,
   "metadata": {},
   "outputs": [
    {
     "name": "stdout",
     "output_type": "stream",
     "text": [
      "the INformation of Circle \n",
      "Radius: 10 \n",
      "Area: 314.1592653589793\n",
      "Perimeter: 62.83185307179586\n"
     ]
    }
   ],
   "source": [
    "cir = create(10)\n",
    "print(draw(cir))\n",
    " "
   ]
  },
  {
   "cell_type": "markdown",
   "metadata": {},
   "source": [
    "*** Bank ***\n",
    "Create a model for represening a bank account \n",
    "\n",
    "*** It should have ***\n",
    "\n",
    "account number \n",
    "name\n",
    "password \n",
    "balance \n",
    "interest rate \n",
    "\n",
    "*** It should support ***\n",
    "\n",
    "deposit \n",
    "should fail for negative maount \n",
    "withdraw \n",
    "\n",
    "should fail if \n",
    "    amount <0 \n",
    "    amount>balance \n",
    "    wrong password\n",
    "\n",
    "credit interest \n",
    "    credits one month interest using forumula \n",
    "    balance+=(balance*rate/1200) \n",
    "info "
   ]
  },
  {
   "cell_type": "code",
   "execution_count": 106,
   "metadata": {},
   "outputs": [],
   "source": [
    "class Bank:\n",
    "    def __init__(self,Acc_no,name,password,balance,interest,credit_amt=0):\n",
    "        self.a = Acc_no\n",
    "        self.name = name\n",
    "        self.password = password\n",
    "        self.balance = balance\n",
    "        self.credit_amt = 0\n",
    "        self.interst = interest\n",
    "\n",
    "    def deposit(self,amt):\n",
    "        # print(self)\n",
    "        if amt>0:\n",
    "            self.balance += amt\n",
    "        else:\n",
    "            print(\"Invalid amount\")\n",
    "\n",
    "    def withdraw(self,amt,pwd):\n",
    "        if amt>0 and amt < self.balance and self.password == pwd:\n",
    "            self.balance -= amt\n",
    "            self.credit_amt += amt\n",
    "        else:\n",
    "            print(\"Insufficient balance or wrong password\")\n",
    "\n",
    "    def credit_int(self,interest):\n",
    "        self.balance = ( self.balance + (interest/1200))\n",
    "\n",
    "    def info(self):\n",
    "        return f'Bank of XYZ \\nAccount Number: {self.a}\\nAccount Holder: {self.name}\\nAccount Balance: {self.balance}'\n",
    "\n",
    "\n",
    "    \n",
    "def create(acc,name,password,bal,interest):\n",
    "    if bal>=0:\n",
    "        b=Bank(acc,name,password,bal,interest)\n",
    "        return b\n",
    "        \n"
   ]
  },
  {
   "cell_type": "code",
   "execution_count": 107,
   "metadata": {},
   "outputs": [
    {
     "name": "stdout",
     "output_type": "stream",
     "text": [
      "<__main__.Bank object at 0x00000129EAF02E90>\n",
      "95\n",
      "15\n",
      "Insufficient balance or wrong password\n",
      "15.041666666666666\n",
      "Bank of XYZ \n",
      "Account Number: 1234\n",
      "Account Holder: Harsha\n",
      "Account Balance: 15.041666666666666\n"
     ]
    }
   ],
   "source": [
    "bank_acc1 = create(1234,\"Harsha\",\"h@123\",45,5)\n",
    "bank_acc1.deposit(50)\n",
    "print(bank_acc1.balance)\n",
    "bank_acc1.withdraw(80,\"h@123\")\n",
    "print(bank_acc1.balance)\n",
    "bank_acc1.withdraw(20,\"h@123\")\n",
    "bank_acc1.credit_int(50)\n",
    "print(bank_acc1.balance)\n",
    "print(bank_acc1.info())\n"
   ]
  }
 ],
 "metadata": {
  "kernelspec": {
   "display_name": "Python 3",
   "language": "python",
   "name": "python3"
  },
  "language_info": {
   "codemirror_mode": {
    "name": "ipython",
    "version": 3
   },
   "file_extension": ".py",
   "mimetype": "text/x-python",
   "name": "python",
   "nbconvert_exporter": "python",
   "pygments_lexer": "ipython3",
   "version": "3.11.5"
  },
  "orig_nbformat": 4
 },
 "nbformat": 4,
 "nbformat_minor": 2
}
