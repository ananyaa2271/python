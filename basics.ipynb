{
 "cells": [
  {
   "cell_type": "markdown",
   "metadata": {},
   "source": [
    "*** *args ***"
   ]
  },
  {
   "cell_type": "code",
   "execution_count": 1,
   "metadata": {},
   "outputs": [
    {
     "name": "stdout",
     "output_type": "stream",
     "text": [
      "5.0\n"
     ]
    }
   ],
   "source": [
    "def sum(*x):\n",
    "    total = 0\n",
    "    for i in x:\n",
    "        total += i\n",
    "    return total\n",
    "\n",
    "def average(*x):\n",
    "    return sum(*x)/len(x)\n",
    "\n",
    "print(average(1,2,3,4,5,6,7,8,9))\n",
    "\n"
   ]
  },
  {
   "cell_type": "markdown",
   "metadata": {},
   "source": [
    "*** Rewrite Histogram function to add the following functions\n",
    "\n",
    "\n",
    " ***"
   ]
  },
  {
   "cell_type": "code",
   "execution_count": 48,
   "metadata": {},
   "outputs": [],
   "source": [
    "def maxi(table:dict):\n",
    "    maximum = 0\n",
    "    for x,y in table.items():\n",
    "        if y>maximum:\n",
    "            maximum = y\n",
    "    return maximum"
   ]
  },
  {
   "cell_type": "code",
   "execution_count": 101,
   "metadata": {},
   "outputs": [
    {
     "name": "stdout",
     "output_type": "stream",
     "text": [
      "The Frequency table:\t{1: 1, 2: 3, 3: 2, 5: 6, 6: 2, 9: 3}\n",
      "<function freq_table at 0x000002B8032A2E80>\n"
     ]
    }
   ],
   "source": [
    "def freq_table(table):\n",
    "    frequency_table = dict()\n",
    "    set_counter = set()\n",
    "    for i in table:\n",
    "        set_counter.add(i)\n",
    "    for i in set_counter:\n",
    "        frequency_table[i] = table.count(i)\n",
    "    print(frequency_table)\n",
    "    return freq_table\n",
    " \n",
    "print(\"The Frequency table:\",end=\"\\t\")\n",
    "\n",
    "print(freq_table((2,2,9,1,2,5,5,5,5,5,9,9,6,6,3,3,5)))"
   ]
  },
  {
   "cell_type": "code",
   "execution_count": 102,
   "metadata": {},
   "outputs": [
    {
     "name": "stdout",
     "output_type": "stream",
     "text": [
      "{2: 7, 3: 3, 4: 1}\n",
      "<function freq_table at 0x000002B8032A2E80>\n"
     ]
    }
   ],
   "source": [
    "print(freq_table((2,2,2,3,3,3,2,2,2,2,4)))"
   ]
  },
  {
   "cell_type": "code",
   "execution_count": 104,
   "metadata": {},
   "outputs": [],
   "source": [
    "def histogram(freTable,show,design=\"===\"):\n",
    "    maximum = maxi(freTable)\n",
    "    character_Len = len(design)+1\n",
    "    # print(character_Len)\n",
    "    for x,y in freTable.items():\n",
    "        print(x,\"|\",end=\"\\t\")\n",
    "        for j in range(y):\n",
    "            print(design,end=' ')\n",
    "        if show == 'Y':\n",
    "            print(character_Len*\" \"*(maximum-y),end=\"\")\n",
    "            print(y)\n",
    "        print()"
   ]
  },
  {
   "cell_type": "code",
   "execution_count": 106,
   "metadata": {},
   "outputs": [
    {
     "name": "stdout",
     "output_type": "stream",
     "text": [
      "2 |\t++()++ ++()++ ++()++ ++()++ ++()++ ++()++ ++()++ ++()++ ++()++ 9\n",
      "\n",
      "8 |\t++()++ ++()++ ++()++                                           3\n",
      "\n",
      "1 |\t++()++ ++()++ ++()++ ++()++                                    4\n",
      "\n",
      "6 |\t++()++                                                         1\n",
      "\n",
      "7 |\t++()++ ++()++                                                  2\n",
      "\n"
     ]
    }
   ],
   "source": [
    "histogram({2:9, 8:3, 1:4, 6:1, 7:2},'Y',\"++()++\")"
   ]
  },
  {
   "cell_type": "code",
   "execution_count": null,
   "metadata": {},
   "outputs": [],
   "source": []
  }
 ],
 "metadata": {
  "kernelspec": {
   "display_name": "Python 3",
   "language": "python",
   "name": "python3"
  },
  "language_info": {
   "codemirror_mode": {
    "name": "ipython",
    "version": 3
   },
   "file_extension": ".py",
   "mimetype": "text/x-python",
   "name": "python",
   "nbconvert_exporter": "python",
   "pygments_lexer": "ipython3",
   "version": "3.11.5"
  },
  "orig_nbformat": 4
 },
 "nbformat": 4,
 "nbformat_minor": 2
}
